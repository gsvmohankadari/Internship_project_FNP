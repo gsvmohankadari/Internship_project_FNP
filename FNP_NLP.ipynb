{
 "cells": [
  {
   "cell_type": "markdown",
   "id": "cb46c664",
   "metadata": {},
   "source": [
    "## importing the Required Librarys"
   ]
  },
  {
   "cell_type": "code",
   "execution_count": 1,
   "id": "ebd5d44c",
   "metadata": {},
   "outputs": [],
   "source": [
    "import pandas as pd\n",
    "import numpy as np\n",
    "import matplotlib.pyplot as plt\n",
    "import string"
   ]
  },
  {
   "cell_type": "code",
   "execution_count": 2,
   "id": "2c86c799",
   "metadata": {},
   "outputs": [],
   "source": [
    "fake = pd.read_csv(\"fake.csv\")\n",
    "true = pd.read_csv(\"true.csv\")"
   ]
  },
  {
   "cell_type": "code",
   "execution_count": 3,
   "id": "07fda478",
   "metadata": {},
   "outputs": [],
   "source": [
    "# Assigning the target to the dataset\n",
    "fake['class'] = 0\n",
    "true ['class'] = 1"
   ]
  },
  {
   "cell_type": "code",
   "execution_count": 4,
   "id": "d434f01f",
   "metadata": {},
   "outputs": [
    {
     "name": "stdout",
     "output_type": "stream",
     "text": [
      "Fake data Column Names : Index(['title', 'text', 'subject', 'date', 'class'], dtype='object')\n",
      "True data Column Names : Index(['title', 'text', 'subject', 'date', 'class'], dtype='object')\n"
     ]
    }
   ],
   "source": [
    "print(\"Fake data Column Names :\",fake.columns)\n",
    "print(\"True data Column Names :\",true.columns)"
   ]
  },
  {
   "cell_type": "code",
   "execution_count": 5,
   "id": "6f6005ad",
   "metadata": {},
   "outputs": [
    {
     "name": "stdout",
     "output_type": "stream",
     "text": [
      "<class 'pandas.core.frame.DataFrame'>\n",
      "RangeIndex: 23481 entries, 0 to 23480\n",
      "Data columns (total 5 columns):\n",
      " #   Column   Non-Null Count  Dtype \n",
      "---  ------   --------------  ----- \n",
      " 0   title    23481 non-null  object\n",
      " 1   text     23481 non-null  object\n",
      " 2   subject  23481 non-null  object\n",
      " 3   date     23481 non-null  object\n",
      " 4   class    23481 non-null  int64 \n",
      "dtypes: int64(1), object(4)\n",
      "memory usage: 917.4+ KB\n",
      "Fake data Information : None\n",
      "<class 'pandas.core.frame.DataFrame'>\n",
      "RangeIndex: 21417 entries, 0 to 21416\n",
      "Data columns (total 5 columns):\n",
      " #   Column   Non-Null Count  Dtype \n",
      "---  ------   --------------  ----- \n",
      " 0   title    21417 non-null  object\n",
      " 1   text     21417 non-null  object\n",
      " 2   subject  21417 non-null  object\n",
      " 3   date     21417 non-null  object\n",
      " 4   class    21417 non-null  int64 \n",
      "dtypes: int64(1), object(4)\n",
      "memory usage: 836.7+ KB\n",
      "True data Information : None\n"
     ]
    }
   ],
   "source": [
    "print(\"Fake data Information :\",fake.info())\n",
    "print(\"True data Information :\",true.info())"
   ]
  },
  {
   "cell_type": "code",
   "execution_count": 6,
   "id": "d7134ea6",
   "metadata": {},
   "outputs": [
    {
     "name": "stdout",
     "output_type": "stream",
     "text": [
      "Fake data Information :\n",
      " title      0\n",
      "text       0\n",
      "subject    0\n",
      "date       0\n",
      "class      0\n",
      "dtype: int64\n",
      "True data Information :\n",
      " title      0\n",
      "text       0\n",
      "subject    0\n",
      "date       0\n",
      "class      0\n",
      "dtype: int64\n"
     ]
    }
   ],
   "source": [
    "print(\"Fake data Information :\\n\",fake.isnull().sum())\n",
    "print(\"True data Information :\\n\",true.isnull().sum())"
   ]
  },
  {
   "cell_type": "code",
   "execution_count": 7,
   "id": "a2828cba",
   "metadata": {},
   "outputs": [],
   "source": [
    "# Removing the last 10 rows for manual testing\n",
    "fake_manual_testing = fake.tail(10)\n",
    "for i in range(23480,23470,-1):\n",
    "    fake.drop([i],axis = 0, inplace = True )\n",
    "    \n",
    "true_manual_testing = true.tail(10)\n",
    "for i in range(21416,21406,-1):\n",
    "    true.drop([i],axis = 0, inplace = True )\n",
    "    "
   ]
  },
  {
   "cell_type": "code",
   "execution_count": 8,
   "id": "97737a54",
   "metadata": {},
   "outputs": [
    {
     "name": "stderr",
     "output_type": "stream",
     "text": [
      "C:\\Users\\G.S.V.Mohan.Kadari\\AppData\\Local\\Temp\\ipykernel_5864\\3995659261.py:1: SettingWithCopyWarning: \n",
      "A value is trying to be set on a copy of a slice from a DataFrame.\n",
      "Try using .loc[row_indexer,col_indexer] = value instead\n",
      "\n",
      "See the caveats in the documentation: https://pandas.pydata.org/pandas-docs/stable/user_guide/indexing.html#returning-a-view-versus-a-copy\n",
      "  fake_manual_testing['class'] = 0\n",
      "C:\\Users\\G.S.V.Mohan.Kadari\\AppData\\Local\\Temp\\ipykernel_5864\\3995659261.py:2: SettingWithCopyWarning: \n",
      "A value is trying to be set on a copy of a slice from a DataFrame.\n",
      "Try using .loc[row_indexer,col_indexer] = value instead\n",
      "\n",
      "See the caveats in the documentation: https://pandas.pydata.org/pandas-docs/stable/user_guide/indexing.html#returning-a-view-versus-a-copy\n",
      "  true_manual_testing['class'] = 1\n"
     ]
    }
   ],
   "source": [
    "fake_manual_testing['class'] = 0\n",
    "true_manual_testing['class'] = 1"
   ]
  },
  {
   "cell_type": "code",
   "execution_count": 9,
   "id": "3c065dab",
   "metadata": {},
   "outputs": [
    {
     "data": {
      "text/html": [
       "<div>\n",
       "<style scoped>\n",
       "    .dataframe tbody tr th:only-of-type {\n",
       "        vertical-align: middle;\n",
       "    }\n",
       "\n",
       "    .dataframe tbody tr th {\n",
       "        vertical-align: top;\n",
       "    }\n",
       "\n",
       "    .dataframe thead th {\n",
       "        text-align: right;\n",
       "    }\n",
       "</style>\n",
       "<table border=\"1\" class=\"dataframe\">\n",
       "  <thead>\n",
       "    <tr style=\"text-align: right;\">\n",
       "      <th></th>\n",
       "      <th>title</th>\n",
       "      <th>text</th>\n",
       "      <th>subject</th>\n",
       "      <th>date</th>\n",
       "      <th>class</th>\n",
       "    </tr>\n",
       "  </thead>\n",
       "  <tbody>\n",
       "    <tr>\n",
       "      <th>0</th>\n",
       "      <td>Donald Trump Sends Out Embarrassing New Year’...</td>\n",
       "      <td>Donald Trump just couldn t wish all Americans ...</td>\n",
       "      <td>News</td>\n",
       "      <td>December 31, 2017</td>\n",
       "      <td>0</td>\n",
       "    </tr>\n",
       "    <tr>\n",
       "      <th>1</th>\n",
       "      <td>Drunk Bragging Trump Staffer Started Russian ...</td>\n",
       "      <td>House Intelligence Committee Chairman Devin Nu...</td>\n",
       "      <td>News</td>\n",
       "      <td>December 31, 2017</td>\n",
       "      <td>0</td>\n",
       "    </tr>\n",
       "    <tr>\n",
       "      <th>2</th>\n",
       "      <td>Sheriff David Clarke Becomes An Internet Joke...</td>\n",
       "      <td>On Friday, it was revealed that former Milwauk...</td>\n",
       "      <td>News</td>\n",
       "      <td>December 30, 2017</td>\n",
       "      <td>0</td>\n",
       "    </tr>\n",
       "    <tr>\n",
       "      <th>3</th>\n",
       "      <td>Trump Is So Obsessed He Even Has Obama’s Name...</td>\n",
       "      <td>On Christmas day, Donald Trump announced that ...</td>\n",
       "      <td>News</td>\n",
       "      <td>December 29, 2017</td>\n",
       "      <td>0</td>\n",
       "    </tr>\n",
       "    <tr>\n",
       "      <th>4</th>\n",
       "      <td>Pope Francis Just Called Out Donald Trump Dur...</td>\n",
       "      <td>Pope Francis used his annual Christmas Day mes...</td>\n",
       "      <td>News</td>\n",
       "      <td>December 25, 2017</td>\n",
       "      <td>0</td>\n",
       "    </tr>\n",
       "    <tr>\n",
       "      <th>...</th>\n",
       "      <td>...</td>\n",
       "      <td>...</td>\n",
       "      <td>...</td>\n",
       "      <td>...</td>\n",
       "      <td>...</td>\n",
       "    </tr>\n",
       "    <tr>\n",
       "      <th>21402</th>\n",
       "      <td>Exclusive: Trump's Afghan decision may increas...</td>\n",
       "      <td>ON BOARD A U.S. MILITARY AIRCRAFT (Reuters) - ...</td>\n",
       "      <td>worldnews</td>\n",
       "      <td>August 22, 2017</td>\n",
       "      <td>1</td>\n",
       "    </tr>\n",
       "    <tr>\n",
       "      <th>21403</th>\n",
       "      <td>U.S. puts more pressure on Pakistan to help wi...</td>\n",
       "      <td>WASHINGTON (Reuters) - The United States sugge...</td>\n",
       "      <td>worldnews</td>\n",
       "      <td>August 21, 2017</td>\n",
       "      <td>1</td>\n",
       "    </tr>\n",
       "    <tr>\n",
       "      <th>21404</th>\n",
       "      <td>Exclusive: U.S. to withhold up to $290 million...</td>\n",
       "      <td>WASHINGTON (Reuters) - The United States has d...</td>\n",
       "      <td>worldnews</td>\n",
       "      <td>August 22, 2017</td>\n",
       "      <td>1</td>\n",
       "    </tr>\n",
       "    <tr>\n",
       "      <th>21405</th>\n",
       "      <td>Trump talks tough on Pakistan's 'terrorist' ha...</td>\n",
       "      <td>ISLAMABAD (Reuters) - Outlining a new strategy...</td>\n",
       "      <td>worldnews</td>\n",
       "      <td>August 22, 2017</td>\n",
       "      <td>1</td>\n",
       "    </tr>\n",
       "    <tr>\n",
       "      <th>21406</th>\n",
       "      <td>U.S., North Korea clash at U.N. forum over nuc...</td>\n",
       "      <td>GENEVA (Reuters) - North Korea and the United ...</td>\n",
       "      <td>worldnews</td>\n",
       "      <td>August 22, 2017</td>\n",
       "      <td>1</td>\n",
       "    </tr>\n",
       "  </tbody>\n",
       "</table>\n",
       "<p>44878 rows × 5 columns</p>\n",
       "</div>"
      ],
      "text/plain": [
       "                                                   title  \\\n",
       "0       Donald Trump Sends Out Embarrassing New Year’...   \n",
       "1       Drunk Bragging Trump Staffer Started Russian ...   \n",
       "2       Sheriff David Clarke Becomes An Internet Joke...   \n",
       "3       Trump Is So Obsessed He Even Has Obama’s Name...   \n",
       "4       Pope Francis Just Called Out Donald Trump Dur...   \n",
       "...                                                  ...   \n",
       "21402  Exclusive: Trump's Afghan decision may increas...   \n",
       "21403  U.S. puts more pressure on Pakistan to help wi...   \n",
       "21404  Exclusive: U.S. to withhold up to $290 million...   \n",
       "21405  Trump talks tough on Pakistan's 'terrorist' ha...   \n",
       "21406  U.S., North Korea clash at U.N. forum over nuc...   \n",
       "\n",
       "                                                    text    subject  \\\n",
       "0      Donald Trump just couldn t wish all Americans ...       News   \n",
       "1      House Intelligence Committee Chairman Devin Nu...       News   \n",
       "2      On Friday, it was revealed that former Milwauk...       News   \n",
       "3      On Christmas day, Donald Trump announced that ...       News   \n",
       "4      Pope Francis used his annual Christmas Day mes...       News   \n",
       "...                                                  ...        ...   \n",
       "21402  ON BOARD A U.S. MILITARY AIRCRAFT (Reuters) - ...  worldnews   \n",
       "21403  WASHINGTON (Reuters) - The United States sugge...  worldnews   \n",
       "21404  WASHINGTON (Reuters) - The United States has d...  worldnews   \n",
       "21405  ISLAMABAD (Reuters) - Outlining a new strategy...  worldnews   \n",
       "21406  GENEVA (Reuters) - North Korea and the United ...  worldnews   \n",
       "\n",
       "                    date  class  \n",
       "0      December 31, 2017      0  \n",
       "1      December 31, 2017      0  \n",
       "2      December 30, 2017      0  \n",
       "3      December 29, 2017      0  \n",
       "4      December 25, 2017      0  \n",
       "...                  ...    ...  \n",
       "21402   August 22, 2017       1  \n",
       "21403   August 21, 2017       1  \n",
       "21404   August 22, 2017       1  \n",
       "21405   August 22, 2017       1  \n",
       "21406   August 22, 2017       1  \n",
       "\n",
       "[44878 rows x 5 columns]"
      ]
     },
     "execution_count": 9,
     "metadata": {},
     "output_type": "execute_result"
    }
   ],
   "source": [
    "# mearging the 2 datasets\n",
    "df = pd.concat([fake,true],axis = 0)\n",
    "df"
   ]
  },
  {
   "cell_type": "code",
   "execution_count": 10,
   "id": "c849289f",
   "metadata": {},
   "outputs": [
    {
     "data": {
      "text/plain": [
       "Index(['title', 'text', 'subject', 'date', 'class'], dtype='object')"
      ]
     },
     "execution_count": 10,
     "metadata": {},
     "output_type": "execute_result"
    }
   ],
   "source": [
    "df.columns"
   ]
  },
  {
   "cell_type": "code",
   "execution_count": 11,
   "id": "ca00ac5e",
   "metadata": {},
   "outputs": [
    {
     "data": {
      "text/plain": [
       "(44878, 5)"
      ]
     },
     "execution_count": 11,
     "metadata": {},
     "output_type": "execute_result"
    }
   ],
   "source": [
    "df.shape"
   ]
  },
  {
   "cell_type": "code",
   "execution_count": 12,
   "id": "46b788c7",
   "metadata": {},
   "outputs": [
    {
     "name": "stdout",
     "output_type": "stream",
     "text": [
      "subject\n",
      "Government News     1570\n",
      "Middle-east          768\n",
      "News                9050\n",
      "US_News              783\n",
      "left-news           4459\n",
      "politics            6841\n",
      "politicsNews       11272\n",
      "worldnews          10135\n",
      "Name: text, dtype: int64\n"
     ]
    },
    {
     "data": {
      "image/png": "[encoded data removed]",
      "text/plain": [
       "<Figure size 640x480 with 1 Axes>"
      ]
     },
     "metadata": {},
     "output_type": "display_data"
    }
   ],
   "source": [
    "print(df.groupby(['subject'])['text'].count())\n",
    "df.groupby(['subject'])['text'].count().plot(kind=\"bar\")\n",
    "plt.show()"
   ]
  },
  {
   "cell_type": "code",
   "execution_count": 12,
   "id": "094d6933",
   "metadata": {},
   "outputs": [],
   "source": [
    "df['Text'] = df['title'] + ',' + df['text']"
   ]
  },
  {
   "cell_type": "code",
   "execution_count": 13,
   "id": "5f2898b3",
   "metadata": {},
   "outputs": [],
   "source": [
    "# Droping the Unvanted Columns in the dataset\n",
    "data = df.drop(['title','subject','date','text'],axis = 1)"
   ]
  },
  {
   "cell_type": "code",
   "execution_count": 14,
   "id": "c928e270",
   "metadata": {},
   "outputs": [
    {
     "data": {
      "text/plain": [
       "Index(['class', 'Text'], dtype='object')"
      ]
     },
     "execution_count": 14,
     "metadata": {},
     "output_type": "execute_result"
    }
   ],
   "source": [
    "data.columns"
   ]
  },
  {
   "cell_type": "code",
   "execution_count": 15,
   "id": "75991561",
   "metadata": {},
   "outputs": [],
   "source": [
    "# Random Shuffil of the dataset\n",
    "data = data.sample(frac = 1)"
   ]
  },
  {
   "cell_type": "code",
   "execution_count": 16,
   "id": "13c7cfc8",
   "metadata": {},
   "outputs": [],
   "source": [
    "#Removing the index\n",
    "data.reset_index(inplace = True )\n",
    "data.drop([\"index\"],axis = 1 , inplace = True)"
   ]
  },
  {
   "cell_type": "code",
   "execution_count": 18,
   "id": "f4ab6761",
   "metadata": {},
   "outputs": [],
   "source": [
    "import re\n",
    "import string\n",
    "from nltk.corpus import stopwords\n",
    "from nltk.stem.porter import PorterStemmer"
   ]
  },
  {
   "cell_type": "code",
   "execution_count": 19,
   "id": "b6bd2ea3",
   "metadata": {},
   "outputs": [
    {
     "data": {
      "text/plain": [
       "<PorterStemmer>"
      ]
     },
     "execution_count": 19,
     "metadata": {},
     "output_type": "execute_result"
    }
   ],
   "source": [
    "ps = PorterStemmer()\n",
    "ps"
   ]
  },
  {
   "cell_type": "code",
   "execution_count": 20,
   "id": "d4af5cea",
   "metadata": {},
   "outputs": [],
   "source": [
    "# cresting the function for removing the special characters\n",
    "def word_drop(text):\n",
    "    text = text.lower()\n",
    "    text = re.sub('\\[.*?\\]',' ',text)\n",
    "    text = re.sub(\"\\\\W\",\" \",text)\n",
    "    text = re.sub('https?://\\S+|www\\.\\S+','',text)\n",
    "    text = re.sub('<.*?>+','',text)\n",
    "    #text = re.sub('[%s]'% re.escape(string.punctuation),'',text)\n",
    "    #text = re.sub('[%s]' % re.escape(string.punctuation), '', text)\n",
    "    text = re.sub('\\n','',text)\n",
    "    text = re.sub('\\w*\\d\\w*','',text)\n",
    "    return text\n",
    "\n"
   ]
  },
  {
   "cell_type": "code",
   "execution_count": 21,
   "id": "d0ea44fa",
   "metadata": {},
   "outputs": [],
   "source": [
    "data['Text'] = data[\"Text\"].apply(word_drop)  "
   ]
  },
  {
   "cell_type": "code",
   "execution_count": 22,
   "id": "7bfe527e",
   "metadata": {},
   "outputs": [],
   "source": [
    "#Creating the Dependent and Independent Variables\n",
    "x = data['Text']\n",
    "y = data['class']"
   ]
  },
  {
   "cell_type": "code",
   "execution_count": 23,
   "id": "ff1dac0b",
   "metadata": {},
   "outputs": [],
   "source": [
    "from sklearn.model_selection import train_test_split"
   ]
  },
  {
   "cell_type": "code",
   "execution_count": 24,
   "id": "f9bc1882",
   "metadata": {},
   "outputs": [],
   "source": [
    "x_train, x_test, y_train, y_test = train_test_split(x, y, test_size=0.2 )"
   ]
  },
  {
   "cell_type": "code",
   "execution_count": 25,
   "id": "064c0579",
   "metadata": {},
   "outputs": [],
   "source": [
    "from sklearn.feature_extraction.text import CountVectorizer,TfidfVectorizer"
   ]
  },
  {
   "cell_type": "code",
   "execution_count": 26,
   "id": "6a02f6e2",
   "metadata": {},
   "outputs": [],
   "source": [
    "v = TfidfVectorizer()\n",
    "xv_train = v.fit_transform(x_train)\n",
    "xv_test = v.transform(x_test)"
   ]
  },
  {
   "cell_type": "code",
   "execution_count": 27,
   "id": "bceef9e7",
   "metadata": {},
   "outputs": [
    {
     "data": {
      "text/plain": [
       "(35902, 97809)"
      ]
     },
     "execution_count": 27,
     "metadata": {},
     "output_type": "execute_result"
    }
   ],
   "source": [
    "xv_train.shape"
   ]
  },
  {
   "cell_type": "code",
   "execution_count": 28,
   "id": "317e3cff",
   "metadata": {},
   "outputs": [
    {
     "data": {
      "text/plain": [
       "(8976, 97809)"
      ]
     },
     "execution_count": 28,
     "metadata": {},
     "output_type": "execute_result"
    }
   ],
   "source": [
    "xv_test.shape"
   ]
  },
  {
   "cell_type": "code",
   "execution_count": 29,
   "id": "0699e09c",
   "metadata": {},
   "outputs": [],
   "source": [
    "from sklearn.linear_model import LogisticRegression"
   ]
  },
  {
   "cell_type": "code",
   "execution_count": 30,
   "id": "31ff689c",
   "metadata": {},
   "outputs": [
    {
     "data": {
      "text/plain": [
       "LogisticRegression()"
      ]
     },
     "execution_count": 30,
     "metadata": {},
     "output_type": "execute_result"
    }
   ],
   "source": [
    "lr = LogisticRegression()\n",
    "lr.fit(xv_train,y_train)"
   ]
  },
  {
   "cell_type": "code",
   "execution_count": 31,
   "id": "82c86619",
   "metadata": {},
   "outputs": [
    {
     "name": "stdout",
     "output_type": "stream",
     "text": [
      "Model Testing Accuracy ---> 0.9878565062388592\n",
      "Model Training Accuracy ---> 0.991811041167623\n"
     ]
    }
   ],
   "source": [
    "xlr = lr.score(xv_test,y_test)\n",
    "ylr = lr.score(xv_train,y_train)\n",
    "print(\"Model Testing Accuracy --->\",xlr)\n",
    "print(\"Model Training Accuracy --->\",ylr)"
   ]
  },
  {
   "cell_type": "code",
   "execution_count": 32,
   "id": "fa771625",
   "metadata": {},
   "outputs": [],
   "source": [
    "import pickle"
   ]
  },
  {
   "cell_type": "code",
   "execution_count": 33,
   "id": "0fdee4ad",
   "metadata": {},
   "outputs": [],
   "source": [
    "pickle.dump(v,open('vector.pkl','wb'))\n",
    "pickle.dump(lr,open('model.pkl','wb'))"
   ]
  },
  {
   "cell_type": "code",
   "execution_count": 34,
   "id": "8db1e9fc",
   "metadata": {},
   "outputs": [
    {
     "data": {
      "text/plain": [
       "TfidfVectorizer()"
      ]
     },
     "execution_count": 34,
     "metadata": {},
     "output_type": "execute_result"
    }
   ],
   "source": [
    "vector_form = pickle.load(open('vector.pkl','rb'))\n",
    "vector_form"
   ]
  },
  {
   "cell_type": "code",
   "execution_count": 35,
   "id": "fdfb40be",
   "metadata": {},
   "outputs": [
    {
     "data": {
      "text/plain": [
       "LogisticRegression()"
      ]
     },
     "execution_count": 35,
     "metadata": {},
     "output_type": "execute_result"
    }
   ],
   "source": [
    "load_model = pickle.load(open('model.pkl','rb'))\n",
    "load_model"
   ]
  },
  {
   "cell_type": "code",
   "execution_count": 36,
   "id": "ff907af9",
   "metadata": {},
   "outputs": [],
   "source": [
    "'''def fake_news(news):\n",
    "    news = word_drop(news)\n",
    "    input_data = [news]\n",
    "    vector_form1 = v.transform(input_data)\n",
    "    preddections = load_model.predict(vector_form1)\n",
    "    predicted_class = preddections[0]\n",
    "    return predicted_class'''\n",
    "    \n",
    "\n",
    "def fake_news(news):\n",
    "    news = word_drop(news)\n",
    "    ##\n",
    "    # Check if the input becomes empty after preprocessing\n",
    "    if not news or news.isspace(): \n",
    "        return \"invalid\"\n",
    "    ##\n",
    "    input_data = [news]\n",
    "    vector_form1 = vector_form.transform(input_data)\n",
    "    prediction = load_model.predict(vector_form1)\n",
    "    return prediction"
   ]
  },
  {
   "cell_type": "code",
   "execution_count": 37,
   "id": "a27494ac",
   "metadata": {},
   "outputs": [
    {
     "name": "stdout",
     "output_type": "stream",
     "text": [
      "onald Trump Sends Out Embarrassing New Year’s Eve Message; This is Disturbing,\"Donald Trump just couldn t wish all Americans a Happy New Year and leave it at that. Instead, he had to give a shout out to his enemies, haters and  the very dishonest fake news media.  The former reality show star had just one job to do and he couldn t do it. As our Country rapidly grows stronger and smarter, I want to wish all of my friends, supporters, enemies, haters, and even the very dishonest Fake News Media, a Happy and Healthy New Year,  President Angry Pants tweeted.  2018 will be a great year for America! As our Country rapidly grows stronger and smarter, I want to wish all of my friends, supporters, enemies, haters, and even the very dishonest Fake News Media, a Happy and Healthy New Year. 2018 will be a great year for America!  Donald J. Trump (@realDonaldTrump) December 31, 2017Trump s tweet went down about as welll as you d expect.What kind of president sends a New Year s greeting like this despicable, petty, infantile gibberish? Only Trump! His lack of decency won t even allow him to rise above the gutter long enough to wish the American citizens a happy new year!  Bishop Talbert Swan (@TalbertSwan) December 31, 2017no one likes you  Calvin (@calvinstowell) December 31, 2017Your impeachment would make 2018 a great year for America, but I ll also accept regaining control of Congress.  Miranda Yaver (@mirandayaver) December 31, 2017Do you hear yourself talk? When you have to include that many people that hate you you have to wonder? Why do the they all hate me?  Alan Sandoval (@AlanSandoval13) December 31, 2017Who uses the word Haters in a New Years wish??  Marlene (@marlene399) December 31, 2017You can t just say happy new year?  Koren pollitt (@Korencarpenter) December 31, 2017Here s Trump s New Year s Eve tweet from 2016.Happy New Year to all, including to my many enemies and those who have fought me and lost so badly they just don t know what to do. Love!  Donald J. Trump (@realDonaldTrump) December 31, 2016This is nothing new for Trump. He s been doing this for years.Trump has directed messages to his  enemies  and  haters  for New Year s, Easter, Thanksgiving, and the anniversary of 9/11. pic.twitter.com/4FPAe2KypA  Daniel Dale (@ddale8) December 31, 2017Trump s holiday tweets are clearly not presidential.How long did he work at Hallmark before becoming President?  Steven Goodine (@SGoodine) December 31, 2017He s always been like this . . . the only difference is that in the last few years, his filter has been breaking down.  Roy Schulze (@thbthttt) December 31, 2017Who, apart from a teenager uses the term haters?  Wendy (@WendyWhistles) December 31, 2017he s a fucking 5 year old  Who Knows (@rainyday80) December 31, 2017So, to all the people who voted for this a hole thinking he would change once he got into power, you were wrong! 70-year-old men don t change and now he s a year older.Photo by Andrew Burton/Getty Images\n",
      "True\n"
     ]
    }
   ],
   "source": [
    "a = str(input())\n",
    "fake_news(a)\n",
    "if a == 0:\n",
    "    print(\"Fake\")\n",
    "else:\n",
    "    print(\"True\")"
   ]
  },
  {
   "cell_type": "code",
   "execution_count": 38,
   "id": "eb59557e",
   "metadata": {},
   "outputs": [
    {
     "name": "stdout",
     "output_type": "stream",
     "text": [
      "True\n"
     ]
    }
   ],
   "source": [
    "if a == 0:\n",
    "    print(\"Fake\")\n",
    "else:\n",
    "    print(\"True\")\n",
    "    "
   ]
  },
  {
   "cell_type": "code",
   "execution_count": null,
   "id": "c4bdfcfe",
   "metadata": {},
   "outputs": [],
   "source": []
  },
  {
   "cell_type": "code",
   "execution_count": null,
   "id": "2f057545",
   "metadata": {},
   "outputs": [],
   "source": []
  },
  {
   "cell_type": "code",
   "execution_count": null,
   "id": "9917ad95",
   "metadata": {},
   "outputs": [],
   "source": []
  },
  {
   "cell_type": "code",
   "execution_count": null,
   "id": "8673c65d",
   "metadata": {},
   "outputs": [],
   "source": []
  },
  {
   "cell_type": "code",
   "execution_count": null,
   "id": "0f68b86b",
   "metadata": {},
   "outputs": [],
   "source": []
  },
  {
   "cell_type": "code",
   "execution_count": null,
   "id": "2cbb9e3b",
   "metadata": {},
   "outputs": [],
   "source": []
  },
  {
   "cell_type": "code",
   "execution_count": null,
   "id": "9b94c847",
   "metadata": {},
   "outputs": [],
   "source": []
  }
 ],
 "metadata": {
  "kernelspec": {
   "display_name": "Python 3 (ipykernel)",
   "language": "python",
   "name": "python3"
  },
  "language_info": {
   "codemirror_mode": {
    "name": "ipython",
    "version": 3
   },
   "file_extension": ".py",
   "mimetype": "text/x-python",
   "name": "python",
   "nbconvert_exporter": "python",
   "pygments_lexer": "ipython3",
   "version": "3.9.13"
  }
 },
 "nbformat": 4,
 "nbformat_minor": 5
}
